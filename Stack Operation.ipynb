{
 "cells": [
  {
   "cell_type": "code",
   "execution_count": 2,
   "metadata": {},
   "outputs": [],
   "source": [
    "# stack operations\n",
    "class stack:\n",
    "    def __init__(self):\n",
    "        self.items=[]\n",
    "    def push(self,item):\n",
    "        self.items.append(item)\n",
    "    def pop(self):\n",
    "        self.items.pop()\n",
    "    def size(self):\n",
    "        print(\"The length of the stack is=\",len(self.items))\n",
    "    def isempty(self):\n",
    "        if self.items==[]:\n",
    "            print(\"Empty\")\n",
    "        else:\n",
    "            print(\"Not empty\")\n",
    "    def display(self):\n",
    "        print(self.items)"
   ]
  },
  {
   "cell_type": "code",
   "execution_count": 3,
   "metadata": {},
   "outputs": [
    {
     "name": "stdout",
     "output_type": "stream",
     "text": [
      "[8, 5, 7]\n",
      "The length of the stack is= 3\n",
      "Not empty\n"
     ]
    }
   ],
   "source": [
    "s1=stack()\n",
    "s1.push(8)\n",
    "s1.push(5)\n",
    "s1.push(7)\n",
    "s1.display()\n",
    "s1.size()\n",
    "s1.isempty()"
   ]
  },
  {
   "cell_type": "code",
   "execution_count": null,
   "metadata": {},
   "outputs": [],
   "source": [
    "#file operations\n",
    "#f=open(\"first.txt\",\"x\")\n",
    "f=open(\"first.txt\",\"w\")\n",
    "f.write(\"This is first file\")\n",
    "words=0\n",
    "f.close()\n",
    "fi=input(\"Write the file name \")\n",
    "with open(fi,'r') as file:\n",
    "    for line in file:\n",
    "        l=line.split()\n",
    "        words=words+len(l)\n",
    "print(words)"
   ]
  },
  {
   "cell_type": "code",
   "execution_count": null,
   "metadata": {},
   "outputs": [],
   "source": [
    "# file open and close operation\n",
    "#f=open(\"read1.txt\",\"x\")\n",
    "f=open(\"read1.txt\",\"w\")\n",
    "f.write(\"This is first file\")\n",
    "f.close()\n",
    "f=open(\"first.txt\",\"r\")"
   ]
  },
  {
   "cell_type": "code",
   "execution_count": null,
   "metadata": {},
   "outputs": [],
   "source": [
    "#String Parenthesis \n",
    "class stack:\n",
    "    def __init__ (self):\n",
    "        self.items=[]\n",
    "    def push(self,item):\n",
    "        self.items.append(item)\n",
    "    def pop(self):\n",
    "        return self.items.pop()\n",
    "    def isempty(self):\n",
    "        return self.items==[]\n",
    "    def size(self):\n",
    "        return len(self.items)\n",
    "s=stack()\n",
    "a=input(\"Enter the string\")\n",
    "print(a)\n",
    "for i in range(len(a)):\n",
    "    if a[i]==\"(\":\n",
    "        s.push(a[i])\n",
    "    elif a[i]==\")\":\n",
    "        if s.isempty():\n",
    "            print(\"unbalanced\")\n",
    "            break\n",
    "        else:\n",
    "            s.pop()\n",
    "            if s.isempty() and i==(len(a)-1):\n",
    "                print(\"balanced\")"
   ]
  },
  {
   "cell_type": "code",
   "execution_count": null,
   "metadata": {},
   "outputs": [],
   "source": []
  }
 ],
 "metadata": {
  "kernelspec": {
   "display_name": "Python 3",
   "language": "python",
   "name": "python3"
  },
  "language_info": {
   "codemirror_mode": {
    "name": "ipython",
    "version": 3
   },
   "file_extension": ".py",
   "mimetype": "text/x-python",
   "name": "python",
   "nbconvert_exporter": "python",
   "pygments_lexer": "ipython3",
   "version": "3.7.3"
  }
 },
 "nbformat": 4,
 "nbformat_minor": 4
}
