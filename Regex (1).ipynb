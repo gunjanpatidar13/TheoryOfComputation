{
 "cells": [
  {
   "cell_type": "code",
   "execution_count": 1,
   "metadata": {},
   "outputs": [
    {
     "name": "stdout",
     "output_type": "stream",
     "text": [
      "Accept even no of a's\n"
     ]
    }
   ],
   "source": [
    "#EVEN NUMBER OF A'S\n",
    "\n",
    "import re\n",
    "my_string = \"abcdababa\"\n",
    "result = len(re.findall(\"a\", my_string))\n",
    "\n",
    "if(result%2==0):\n",
    "    print(\"Accept even no of a's\")\n",
    "else:\n",
    "    print(\"Doesn't\")"
   ]
  },
  {
   "cell_type": "markdown",
   "metadata": {},
   "source": [
    "language accepting one a's"
   ]
  },
  {
   "cell_type": "code",
   "execution_count": 3,
   "metadata": {},
   "outputs": [
    {
     "name": "stdout",
     "output_type": "stream",
     "text": [
      "['ab', 'ab']\n"
     ]
    }
   ],
   "source": [
    "\n",
    "import re\n",
    "my_string=\"abcabc\"\n",
    "result=re.findall(\"[a-b]*a[a-b]*\",my_string)\n",
    "print (result)\n"
   ]
  },
  {
   "cell_type": "code",
   "execution_count": 4,
   "metadata": {},
   "outputs": [
    {
     "name": "stdout",
     "output_type": "stream",
     "text": [
      "['aaaaab']\n"
     ]
    }
   ],
   "source": [
    "#string such that third character from the right is always a alphabet a,b\n",
    "\n",
    "import re\n",
    "my_string=\"abcaaaaab\"\n",
    "result=re.findall(\"[a-b]*a[a-b][a-b]\",my_string)\n",
    "print (result)\n"
   ]
  },
  {
   "cell_type": "code",
   "execution_count": 7,
   "metadata": {},
   "outputs": [
    {
     "name": "stdout",
     "output_type": "stream",
     "text": [
      "accept atmost one no of a's\n"
     ]
    }
   ],
   "source": [
    "#atmost one no of a\n",
    "\n",
    "import re\n",
    "my_string=\"abcccbc\"\n",
    "result= len(re.findall(\"a\",my_string))\n",
    "            \n",
    "if(result%2==1):\n",
    "            print(\"accept atmost one no of a's\")\n",
    "else:\n",
    "            print(\"not present\")\n",
    "                      "
   ]
  },
  {
   "cell_type": "code",
   "execution_count": 10,
   "metadata": {},
   "outputs": [
    {
     "name": "stdout",
     "output_type": "stream",
     "text": [
      "['aabb']\n"
     ]
    }
   ],
   "source": [
    "#accept string aab\n",
    "\n",
    "import re\n",
    "my_string=\"abcaabbc\"\n",
    "result=re.findall(\"[a-b]*aab[a-b]*\",my_string)\n",
    "print (result)\n"
   ]
  },
  {
   "cell_type": "code",
   "execution_count": 20,
   "metadata": {},
   "outputs": [
    {
     "name": "stdout",
     "output_type": "stream",
     "text": [
      "even\n"
     ]
    }
   ],
   "source": [
    "#even no of a's and odd no of b's\n",
    "\n",
    "import re\n",
    "test_str=\"aabbbaaaa\"\n",
    "x=len(re.findall(\"a\",test_str))\n",
    "y=len(re.findall(\"b\",test_str))\n",
    "if(x%2==0 and y%2!=0):\n",
    "    print(\"even\")\n",
    "else:\n",
    "    print(\"odd\")\n"
   ]
  },
  {
   "cell_type": "code",
   "execution_count": null,
   "metadata": {},
   "outputs": [],
   "source": []
  },
  {
   "cell_type": "code",
   "execution_count": null,
   "metadata": {},
   "outputs": [],
   "source": []
  }
 ],
 "metadata": {
  "kernelspec": {
   "display_name": "Python 3",
   "language": "python",
   "name": "python3"
  },
  "language_info": {
   "codemirror_mode": {
    "name": "ipython",
    "version": 3
   },
   "file_extension": ".py",
   "mimetype": "text/x-python",
   "name": "python",
   "nbconvert_exporter": "python",
   "pygments_lexer": "ipython3",
   "version": "3.7.3"
  }
 },
 "nbformat": 4,
 "nbformat_minor": 4
}
