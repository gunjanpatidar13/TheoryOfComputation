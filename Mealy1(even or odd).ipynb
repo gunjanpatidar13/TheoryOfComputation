{
 "cells": [
  {
   "cell_type": "code",
   "execution_count": 1,
   "metadata": {},
   "outputs": [
    {
     "name": "stdin",
     "output_type": "stream",
     "text": [
      "Enter a string 0100\n"
     ]
    }
   ],
   "source": [
    "dfa=dict()\n",
    "dfa[(0,'0')]=(0,'even')\n",
    "dfa[(0,'1')]=(1,'odd')\n",
    "dfa[(1,'0')]=(1,'odd')\n",
    "dfa[(1,'1')]=(0,'even')\n",
    "s=input(\"Enter a string\")\n",
    "class mealy:\n",
    "    def __init__(self,dfa):\n",
    "        self.current_state=0\n",
    "        self.current_state1=0\n",
    "    def moves(self,s):\n",
    "        for i in s:\n",
    "            self.current_state1=self.current_state\n",
    "            self.current_state=dfa[self.current_state,i][0]\n",
    "            print(self.current_state)\n",
    "            print(dfa[self.current_state1,i][1])\n",
    "\n",
    "    \n"
   ]
  },
  {
   "cell_type": "code",
   "execution_count": 2,
   "metadata": {},
   "outputs": [
    {
     "name": "stdout",
     "output_type": "stream",
     "text": [
      "0\n",
      "even\n",
      "1\n",
      "odd\n",
      "1\n",
      "odd\n",
      "1\n",
      "odd\n"
     ]
    }
   ],
   "source": [
    "ob=mealy(dfa)\n",
    "ob.moves(s)"
   ]
  },
  {
   "cell_type": "code",
   "execution_count": null,
   "metadata": {},
   "outputs": [],
   "source": []
  }
 ],
 "metadata": {
  "kernelspec": {
   "display_name": "Python 3",
   "language": "python",
   "name": "python3"
  },
  "language_info": {
   "codemirror_mode": {
    "name": "ipython",
    "version": 3
   },
   "file_extension": ".py",
   "mimetype": "text/x-python",
   "name": "python",
   "nbconvert_exporter": "python",
   "pygments_lexer": "ipython3",
   "version": "3.7.3"
  }
 },
 "nbformat": 4,
 "nbformat_minor": 4
}
