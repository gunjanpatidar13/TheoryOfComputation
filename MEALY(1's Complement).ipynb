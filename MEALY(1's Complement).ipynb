{
 "cells": [
  {
   "cell_type": "code",
   "execution_count": 1,
   "metadata": {},
   "outputs": [
    {
     "name": "stdin",
     "output_type": "stream",
     "text": [
      "enter a string 0011\n"
     ]
    }
   ],
   "source": [
    "#MEALY(1's COMPLEMENT)\n",
    "\n",
    "dfa=dict()\n",
    "dfa[(0,'0')]=(0,'1')\n",
    "dfa[(0,'1')]=(0,'0')\n",
    "s=input(\"enter a string\")\n",
    "class mealy:\n",
    "  def __init__(self):\n",
    "    self.current_state=0\n",
    "  def moves(self,s):\n",
    "    for i in s:\n",
    "      self.current_state=dfa[self.current_state,i][0]\n",
    "      print(dfa[self.current_state,i][1],end=\" \")\n",
    "\n"
   ]
  },
  {
   "cell_type": "code",
   "execution_count": 2,
   "metadata": {},
   "outputs": [
    {
     "name": "stdout",
     "output_type": "stream",
     "text": [
      "1 1 0 0 "
     ]
    }
   ],
   "source": [
    "ob=mealy()\n",
    "ob.moves(s)"
   ]
  },
  {
   "cell_type": "code",
   "execution_count": null,
   "metadata": {},
   "outputs": [],
   "source": []
  }
 ],
 "metadata": {
  "kernelspec": {
   "display_name": "Python 3",
   "language": "python",
   "name": "python3"
  },
  "language_info": {
   "codemirror_mode": {
    "name": "ipython",
    "version": 3
   },
   "file_extension": ".py",
   "mimetype": "text/x-python",
   "name": "python",
   "nbconvert_exporter": "python",
   "pygments_lexer": "ipython3",
   "version": "3.7.3"
  }
 },
 "nbformat": 4,
 "nbformat_minor": 4
}
